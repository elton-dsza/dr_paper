{
 "cells": [
  {
   "cell_type": "code",
   "execution_count": 1,
   "id": "animated-underwear",
   "metadata": {},
   "outputs": [],
   "source": [
    "import numpy as np # linear algebra\n",
    "import pandas as pd # data processing, CSV file I/O (e.g. pd.read_csv)\n",
    "import keras\n",
    "from keras.applications.vgg19 import VGG19\n",
    "from keras.models import Model\n",
    "from keras.layers import Dense, Dropout, Flatten\n",
    "import tensorflow as tf\n",
    "\n",
    "import os\n",
    "from tqdm import tqdm\n",
    "from sklearn import preprocessing\n",
    "from sklearn.model_selection import train_test_split\n",
    "import cv2"
   ]
  },
  {
   "cell_type": "code",
   "execution_count": 2,
   "id": "athletic-elements",
   "metadata": {},
   "outputs": [
    {
     "data": {
      "text/html": [
       "<div>\n",
       "<style scoped>\n",
       "    .dataframe tbody tr th:only-of-type {\n",
       "        vertical-align: middle;\n",
       "    }\n",
       "\n",
       "    .dataframe tbody tr th {\n",
       "        vertical-align: top;\n",
       "    }\n",
       "\n",
       "    .dataframe thead th {\n",
       "        text-align: right;\n",
       "    }\n",
       "</style>\n",
       "<table border=\"1\" class=\"dataframe\">\n",
       "  <thead>\n",
       "    <tr style=\"text-align: right;\">\n",
       "      <th></th>\n",
       "      <th>image</th>\n",
       "      <th>level</th>\n",
       "    </tr>\n",
       "  </thead>\n",
       "  <tbody>\n",
       "    <tr>\n",
       "      <th>0</th>\n",
       "      <td>10_left</td>\n",
       "      <td>0</td>\n",
       "    </tr>\n",
       "    <tr>\n",
       "      <th>1</th>\n",
       "      <td>10_right</td>\n",
       "      <td>0</td>\n",
       "    </tr>\n",
       "    <tr>\n",
       "      <th>2</th>\n",
       "      <td>13_left</td>\n",
       "      <td>0</td>\n",
       "    </tr>\n",
       "    <tr>\n",
       "      <th>3</th>\n",
       "      <td>13_right</td>\n",
       "      <td>0</td>\n",
       "    </tr>\n",
       "    <tr>\n",
       "      <th>4</th>\n",
       "      <td>15_left</td>\n",
       "      <td>1</td>\n",
       "    </tr>\n",
       "  </tbody>\n",
       "</table>\n",
       "</div>"
      ],
      "text/plain": [
       "      image  level\n",
       "0   10_left      0\n",
       "1  10_right      0\n",
       "2   13_left      0\n",
       "3  13_right      0\n",
       "4   15_left      1"
      ]
     },
     "execution_count": 2,
     "metadata": {},
     "output_type": "execute_result"
    }
   ],
   "source": [
    "df_train = pd.read_csv('/mnt/sdb/DATASETS/diabetic_retinopathy/trainLabels.csv')\n",
    "df_train.head()"
   ]
  },
  {
   "cell_type": "code",
   "execution_count": 3,
   "id": "chemical-crack",
   "metadata": {},
   "outputs": [],
   "source": [
    "targets_series = pd.Series(df_train['level'])\n",
    "one_hot = pd.get_dummies(targets_series, sparse = True)\n",
    "one_hot_labels = np.asarray(one_hot)"
   ]
  },
  {
   "cell_type": "code",
   "execution_count": 4,
   "id": "crucial-detector",
   "metadata": {},
   "outputs": [],
   "source": [
    "im_size1 = 512\n",
    "im_size2 = 512\n",
    "\n",
    "x_train = []\n",
    "y_train = []\n",
    "x_test = []"
   ]
  },
  {
   "cell_type": "code",
   "execution_count": 5,
   "id": "disabled-mapping",
   "metadata": {},
   "outputs": [
    {
     "name": "stdout",
     "output_type": "stream",
     "text": [
      "New Data Size: 35126 Old Size: 750\n"
     ]
    },
    {
     "data": {
      "text/plain": [
       "array([[<AxesSubplot:title={'center':'level'}>,\n",
       "        <AxesSubplot:title={'center':'eye'}>]], dtype=object)"
      ]
     },
     "execution_count": 5,
     "metadata": {},
     "output_type": "execute_result"
    },
    {
     "data": {
      "image/png": "[encoded data removed]",
      "text/plain": [
       "<Figure size 720x360 with 2 Axes>"
      ]
     },
     "metadata": {
      "needs_background": "light"
     },
     "output_type": "display_data"
    }
   ],
   "source": [
    "##Balancing dataset\n",
    "df_train_eye = df_train\n",
    "df_train_eye['eye'] = df_train['image'].map(lambda x: 1 if x.split('_')[-1]=='left' else 0)\n",
    "\n",
    "raw_train_df = df_train_eye.groupby(['level', 'eye']).apply(lambda x: x.sample(75, replace = True)\n",
    "                                                      ).reset_index(drop = True)\n",
    "print('New Data Size:', df_train.shape[0], 'Old Size:', raw_train_df.shape[0])\n",
    "raw_train_df[['level', 'eye']].hist(figsize = (10, 5))"
   ]
  },
  {
   "cell_type": "code",
   "execution_count": 6,
   "id": "celtic-nelson",
   "metadata": {},
   "outputs": [
    {
     "data": {
      "text/html": [
       "<div>\n",
       "<style scoped>\n",
       "    .dataframe tbody tr th:only-of-type {\n",
       "        vertical-align: middle;\n",
       "    }\n",
       "\n",
       "    .dataframe tbody tr th {\n",
       "        vertical-align: top;\n",
       "    }\n",
       "\n",
       "    .dataframe thead th {\n",
       "        text-align: right;\n",
       "    }\n",
       "</style>\n",
       "<table border=\"1\" class=\"dataframe\">\n",
       "  <thead>\n",
       "    <tr style=\"text-align: right;\">\n",
       "      <th></th>\n",
       "      <th>image</th>\n",
       "      <th>level</th>\n",
       "    </tr>\n",
       "  </thead>\n",
       "  <tbody>\n",
       "    <tr>\n",
       "      <th>0</th>\n",
       "      <td>19957_right</td>\n",
       "      <td>0</td>\n",
       "    </tr>\n",
       "    <tr>\n",
       "      <th>1</th>\n",
       "      <td>3142_right</td>\n",
       "      <td>0</td>\n",
       "    </tr>\n",
       "    <tr>\n",
       "      <th>2</th>\n",
       "      <td>32469_right</td>\n",
       "      <td>0</td>\n",
       "    </tr>\n",
       "    <tr>\n",
       "      <th>3</th>\n",
       "      <td>9602_right</td>\n",
       "      <td>0</td>\n",
       "    </tr>\n",
       "    <tr>\n",
       "      <th>4</th>\n",
       "      <td>44331_right</td>\n",
       "      <td>0</td>\n",
       "    </tr>\n",
       "  </tbody>\n",
       "</table>\n",
       "</div>"
      ],
      "text/plain": [
       "         image  level\n",
       "0  19957_right      0\n",
       "1   3142_right      0\n",
       "2  32469_right      0\n",
       "3   9602_right      0\n",
       "4  44331_right      0"
      ]
     },
     "execution_count": 6,
     "metadata": {},
     "output_type": "execute_result"
    }
   ],
   "source": [
    "del raw_train_df['eye']\n",
    "raw_train_df.head()"
   ]
  },
  {
   "cell_type": "code",
   "execution_count": 7,
   "id": "inside-israeli",
   "metadata": {},
   "outputs": [
    {
     "name": "stderr",
     "output_type": "stream",
     "text": [
      "100%|██████████| 750/750 [01:54<00:00,  6.54it/s]\n"
     ]
    },
    {
     "name": "stdout",
     "output_type": "stream",
     "text": [
      "Done\n"
     ]
    }
   ],
   "source": [
    "i = 0 \n",
    "for f, breed in tqdm(raw_train_df.values):\n",
    "\n",
    "    if type(cv2.imread('/mnt/sdb/DATASETS/diabetic_retinopathy/train/{}.jpeg'.format(f)))==type(None):\n",
    "        continue\n",
    "    else:\n",
    "        img = cv2.imread('/mnt/sdb/DATASETS/diabetic_retinopathy/train/{}.jpeg'.format(f))\n",
    "        label = one_hot_labels[i]\n",
    "        x_train.append(cv2.resize(img, (im_size1, im_size2)))\n",
    "#         img = cv2.cvtColor(img, cv2.COLOR_RGB2GRAY)#cv2.COLOR_BGR2HSV)\n",
    "#         cv2.imshow('show',img)\n",
    "#         cv2.waitKey(0)\n",
    "#         x_train.append(cv2.resize(cv2.cvtColor(img, cv2.COLOR_RGB2GRAY), (im_size1, im_size2)))\n",
    "#         cv2.imshow('show',img)\n",
    "#         cv2.waitKey(0)\n",
    "        y_train.append(label)\n",
    "        i += 1\n",
    "\n",
    "np.save('x_train2',x_train)\n",
    "np.save('y_train2',y_train)\n",
    "print('Done')"
   ]
  },
  {
   "cell_type": "code",
   "execution_count": 8,
   "id": "equal-amino",
   "metadata": {},
   "outputs": [],
   "source": [
    "x_train = np.load('x_train2.npy')\n",
    "y_train = np.load('y_train2.npy')"
   ]
  },
  {
   "cell_type": "code",
   "execution_count": 9,
   "id": "native-transsexual",
   "metadata": {},
   "outputs": [],
   "source": [
    "np.save('/mnt/sdb/DATASETS/diabetic_retinopathy/x_train2',x_train)\n",
    "np.save('/mnt/sdb/DATASETS/diabetic_retinopathy/y_train2',y_train)"
   ]
  },
  {
   "cell_type": "code",
   "execution_count": 10,
   "id": "polished-series",
   "metadata": {},
   "outputs": [],
   "source": [
    "y_train_raw = np.array(y_train, np.uint8)\n",
    "x_train_raw = np.array(x_train, np.float32) / 255."
   ]
  },
  {
   "cell_type": "code",
   "execution_count": 18,
   "id": "together-battle",
   "metadata": {},
   "outputs": [
    {
     "name": "stdout",
     "output_type": "stream",
     "text": [
      "(750, 512, 512, 3)\n",
      "(750, 5)\n"
     ]
    }
   ],
   "source": [
    "print(x_train_raw.shape)\n",
    "print(y_train_raw.shape)\n"
   ]
  },
  {
   "cell_type": "code",
   "execution_count": 19,
   "id": "gentle-fisher",
   "metadata": {},
   "outputs": [],
   "source": [
    "X_train, X_valid, train_labels, valid_labels = train_test_split(x_train_raw, y_train_raw, test_size=0.1, random_state=1)"
   ]
  },
  {
   "cell_type": "code",
   "execution_count": 20,
   "id": "naughty-graham",
   "metadata": {},
   "outputs": [
    {
     "data": {
      "text/plain": [
       "(675, 5)"
      ]
     },
     "execution_count": 20,
     "metadata": {},
     "output_type": "execute_result"
    }
   ],
   "source": [
    "train_labels.shape"
   ]
  },
  {
   "cell_type": "code",
   "execution_count": 23,
   "id": "spare-albania",
   "metadata": {},
   "outputs": [
    {
     "name": "stdout",
     "output_type": "stream",
     "text": [
      "(675, 512, 512, 3)\n",
      "(75, 512, 512, 3)\n"
     ]
    }
   ],
   "source": [
    "training_images = X_train\n",
    "testing_images = X_valid\n",
    "\n",
    "from tensorflow.keras.preprocessing.image import ImageDataGenerator\n",
    "# Create an ImageDataGenerator and do Image Augmentation\n",
    "train_datagen = ImageDataGenerator(\n",
    "    zoom_range=0.2,\n",
    "    horizontal_flip=True,\n",
    "    fill_mode='nearest'\n",
    ")\n",
    "\n",
    "validation_datagen = ImageDataGenerator(\n",
    ")\n",
    "    \n",
    "# Keep These\n",
    "print(training_images.shape)\n",
    "print(testing_images.shape)\n",
    "# print(X_train.shape)\n",
    "# print(X_valid.shape)"
   ]
  },
  {
   "cell_type": "code",
   "execution_count": 24,
   "id": "accessible-theta",
   "metadata": {},
   "outputs": [
    {
     "name": "stdout",
     "output_type": "stream",
     "text": [
      "Model: \"model_1\"\n",
      "__________________________________________________________________________________________________\n",
      "Layer (type)                    Output Shape         Param #     Connected to                     \n",
      "==================================================================================================\n",
      "input_3 (InputLayer)            [(None, 512, 512, 3) 0                                            \n",
      "__________________________________________________________________________________________________\n",
      "inception_v3 (Functional)       (None, 14, 14, 2048) 21802784    input_3[0][0]                    \n",
      "__________________________________________________________________________________________________\n",
      "batch_normalization_189 (BatchN (None, 14, 14, 2048) 8192        inception_v3[0][0]               \n",
      "__________________________________________________________________________________________________\n",
      "dropout_3 (Dropout)             (None, 14, 14, 2048) 0           batch_normalization_189[0][0]    \n",
      "__________________________________________________________________________________________________\n",
      "conv2d_192 (Conv2D)             (None, 14, 14, 64)   131136      dropout_3[0][0]                  \n",
      "__________________________________________________________________________________________________\n",
      "conv2d_193 (Conv2D)             (None, 14, 14, 16)   1040        conv2d_192[0][0]                 \n",
      "__________________________________________________________________________________________________\n",
      "conv2d_194 (Conv2D)             (None, 14, 14, 8)    136         conv2d_193[0][0]                 \n",
      "__________________________________________________________________________________________________\n",
      "conv2d_195 (Conv2D)             (None, 14, 14, 1)    9           conv2d_194[0][0]                 \n",
      "__________________________________________________________________________________________________\n",
      "multiply_1 (Multiply)           (None, 14, 14, 2048) 0           conv2d_195[0][0]                 \n",
      "                                                                 batch_normalization_189[0][0]    \n",
      "__________________________________________________________________________________________________\n",
      "global_average_pooling2d_2 (Glo (None, 2048)         0           multiply_1[0][0]                 \n",
      "__________________________________________________________________________________________________\n",
      "global_average_pooling2d_3 (Glo (None, 1)            0           conv2d_195[0][0]                 \n",
      "__________________________________________________________________________________________________\n",
      "RescaleGAP (Lambda)             (None, 2048)         0           global_average_pooling2d_2[0][0] \n",
      "                                                                 global_average_pooling2d_3[0][0] \n",
      "__________________________________________________________________________________________________\n",
      "dropout_4 (Dropout)             (None, 2048)         0           RescaleGAP[0][0]                 \n",
      "__________________________________________________________________________________________________\n",
      "dense_2 (Dense)                 (None, 128)          262272      dropout_4[0][0]                  \n",
      "__________________________________________________________________________________________________\n",
      "dropout_5 (Dropout)             (None, 128)          0           dense_2[0][0]                    \n",
      "__________________________________________________________________________________________________\n",
      "dense_3 (Dense)                 (None, 5)            645         dropout_5[0][0]                  \n",
      "==================================================================================================\n",
      "Total params: 22,206,214\n",
      "Trainable params: 399,334\n",
      "Non-trainable params: 21,806,880\n",
      "__________________________________________________________________________________________________\n"
     ]
    }
   ],
   "source": [
    "from keras.applications.vgg16 import VGG16 as PTModel\n",
    "from keras.applications.inception_resnet_v2 import InceptionResNetV2 as PTModel\n",
    "from keras.applications.inception_v3 import InceptionV3 as PTModel\n",
    "from keras.layers import GlobalAveragePooling2D, Dense, Dropout, Flatten, Input, Conv2D, multiply, LocallyConnected2D, Lambda\n",
    "from keras.models import Model\n",
    "\n",
    "\n",
    "in_lay = Input((512, 512, 3))\n",
    "base_pretrained_model = PTModel(input_shape =  (512, 512, 3), include_top = False, weights = None)\n",
    "base_pretrained_model.trainable = False\n",
    "pt_depth = (512, 512, 3)\n",
    "pt_features = base_pretrained_model(in_lay)\n",
    "from keras.layers import BatchNormalization\n",
    "bn_features = BatchNormalization()(pt_features)\n",
    "\n",
    "\n",
    "attn_layer = Conv2D(64, kernel_size = (1,1), padding = 'same', activation = 'relu')(Dropout(0.5)(bn_features))\n",
    "attn_layer = Conv2D(16, kernel_size = (1,1), padding = 'same', activation = 'relu')(attn_layer)\n",
    "attn_layer = Conv2D(8, kernel_size = (1,1), padding = 'same', activation = 'relu')(attn_layer)\n",
    "attn_layer = Conv2D(1, kernel_size = (1,1), padding = 'valid', activation = 'sigmoid')(attn_layer)\n",
    "\n",
    "\n",
    "mask_features = multiply([attn_layer, bn_features])\n",
    "gap_features = GlobalAveragePooling2D()(mask_features)\n",
    "gap_mask = GlobalAveragePooling2D()(attn_layer)\n",
    "\n",
    "\n",
    "# to account for missing values from the attention model\n",
    "gap = Lambda(lambda x: x[0]/x[1], name = 'RescaleGAP')([gap_features, gap_mask])\n",
    "gap_dr = Dropout(0.25)(gap)\n",
    "dr_steps = Dropout(0.25)(Dense(128, activation = 'relu')(gap_dr))\n",
    "out_layer = Dense(5, activation = 'softmax')(dr_steps)\n",
    "retina_model = Model(inputs = [in_lay], outputs = [out_layer])\n",
    "\n",
    "\n",
    "\n",
    "from keras.metrics import top_k_categorical_accuracy\n",
    "\n",
    "def top_2_accuracy(in_gt, in_pred):\n",
    "    return top_k_categorical_accuracy(in_gt, in_pred, k=2)\n",
    "\n",
    "retina_model.compile(optimizer = 'adam', loss = 'categorical_crossentropy',\n",
    "                           metrics = ['categorical_accuracy', top_2_accuracy])\n",
    "retina_model.summary()\n"
   ]
  },
  {
   "cell_type": "code",
   "execution_count": 25,
   "id": "advisory-familiar",
   "metadata": {},
   "outputs": [
    {
     "name": "stdout",
     "output_type": "stream",
     "text": [
      "WARNING:tensorflow:`epsilon` argument is deprecated and will be removed, use `min_delta` instead.\n"
     ]
    }
   ],
   "source": [
    "from keras.callbacks import ModelCheckpoint, LearningRateScheduler, EarlyStopping, ReduceLROnPlateau\n",
    "weight_path=\"{}_weights.best.hdf5\".format('retina')\n",
    "\n",
    "checkpoint = ModelCheckpoint(weight_path, monitor='val_loss', verbose=1, \n",
    "                             save_best_only=True, mode='min', save_weights_only = True)\n",
    "\n",
    "reduceLROnPlat = ReduceLROnPlateau(monitor='val_loss', factor=0.8, patience=3, verbose=1, mode='auto', epsilon=0.0001, cooldown=5, min_lr=0.01)\n",
    "early = EarlyStopping(monitor=\"val_loss\", \n",
    "                      mode=\"min\", \n",
    "                      patience=10) \n",
    "callbacks_list = [checkpoint, early, reduceLROnPlat]"
   ]
  },
  {
   "cell_type": "code",
   "execution_count": 26,
   "id": "geological-roller",
   "metadata": {},
   "outputs": [],
   "source": [
    "# Configure generators\n",
    "train_gen = train_datagen.flow(\n",
    "    training_images,\n",
    "    train_labels,\n",
    "    batch_size=5\n",
    ")\n",
    "\n",
    "val_gen = validation_datagen.flow(\n",
    "    testing_images,\n",
    "    valid_labels,\n",
    "    batch_size=5\n",
    ")"
   ]
  },
  {
   "cell_type": "code",
   "execution_count": 27,
   "id": "neither-berry",
   "metadata": {},
   "outputs": [],
   "source": [
    "!rm -rf ~/.keras "
   ]
  },
  {
   "cell_type": "code",
   "execution_count": 28,
   "id": "documentary-butterfly",
   "metadata": {},
   "outputs": [
    {
     "name": "stdout",
     "output_type": "stream",
     "text": [
      "Epoch 1/10\n",
      "135/135 [==============================] - 49s 347ms/step - loss: 1.0615 - categorical_accuracy: 0.6987 - top_2_accuracy: 0.8582 - val_loss: 0.9014 - val_categorical_accuracy: 0.7600 - val_top_2_accuracy: 0.8933\n",
      "\n",
      "Epoch 00001: val_loss improved from inf to 0.90142, saving model to retina_weights.best.hdf5\n",
      "Epoch 2/10\n",
      "135/135 [==============================] - 46s 337ms/step - loss: 0.8368 - categorical_accuracy: 0.7618 - top_2_accuracy: 0.9098 - val_loss: 0.8488 - val_categorical_accuracy: 0.7600 - val_top_2_accuracy: 0.8933\n",
      "\n",
      "Epoch 00002: val_loss improved from 0.90142 to 0.84880, saving model to retina_weights.best.hdf5\n",
      "Epoch 3/10\n",
      "135/135 [==============================] - 46s 337ms/step - loss: 0.8682 - categorical_accuracy: 0.7395 - top_2_accuracy: 0.9054 - val_loss: 0.8636 - val_categorical_accuracy: 0.7600 - val_top_2_accuracy: 0.8933\n",
      "\n",
      "Epoch 00003: val_loss did not improve from 0.84880\n",
      "Epoch 4/10\n",
      "135/135 [==============================] - 46s 340ms/step - loss: 0.8839 - categorical_accuracy: 0.7404 - top_2_accuracy: 0.8909 - val_loss: 0.8641 - val_categorical_accuracy: 0.7600 - val_top_2_accuracy: 0.8933\n",
      "\n",
      "Epoch 00004: val_loss did not improve from 0.84880\n",
      "Epoch 5/10\n",
      "135/135 [==============================] - 47s 346ms/step - loss: 0.8176 - categorical_accuracy: 0.7502 - top_2_accuracy: 0.9072 - val_loss: 0.8844 - val_categorical_accuracy: 0.7600 - val_top_2_accuracy: 0.8933\n",
      "\n",
      "Epoch 00005: val_loss did not improve from 0.84880\n",
      "Epoch 6/10\n",
      "135/135 [==============================] - 47s 345ms/step - loss: 0.8271 - categorical_accuracy: 0.7632 - top_2_accuracy: 0.8915 - val_loss: 0.8819 - val_categorical_accuracy: 0.7600 - val_top_2_accuracy: 0.8933\n",
      "\n",
      "Epoch 00006: val_loss did not improve from 0.84880\n",
      "Epoch 7/10\n",
      "135/135 [==============================] - 46s 342ms/step - loss: 0.8763 - categorical_accuracy: 0.7475 - top_2_accuracy: 0.8985 - val_loss: 0.8704 - val_categorical_accuracy: 0.7600 - val_top_2_accuracy: 0.8933\n",
      "\n",
      "Epoch 00007: val_loss did not improve from 0.84880\n",
      "Epoch 8/10\n",
      "135/135 [==============================] - 47s 347ms/step - loss: 0.8064 - categorical_accuracy: 0.7682 - top_2_accuracy: 0.9010 - val_loss: 0.8567 - val_categorical_accuracy: 0.7600 - val_top_2_accuracy: 0.8933\n",
      "\n",
      "Epoch 00008: val_loss did not improve from 0.84880\n",
      "Epoch 9/10\n",
      "135/135 [==============================] - 46s 341ms/step - loss: 0.8611 - categorical_accuracy: 0.7364 - top_2_accuracy: 0.8998 - val_loss: 0.9169 - val_categorical_accuracy: 0.7600 - val_top_2_accuracy: 0.8933\n",
      "\n",
      "Epoch 00009: val_loss did not improve from 0.84880\n",
      "Epoch 10/10\n",
      "135/135 [==============================] - 46s 338ms/step - loss: 0.8622 - categorical_accuracy: 0.7542 - top_2_accuracy: 0.8955 - val_loss: 0.8479 - val_categorical_accuracy: 0.7600 - val_top_2_accuracy: 0.8933\n",
      "\n",
      "Epoch 00010: val_loss improved from 0.84880 to 0.84794, saving model to retina_weights.best.hdf5\n",
      "3/3 [==============================] - 5s 1s/step - loss: 0.8479 - categorical_accuracy: 0.7600 - top_2_accuracy: 0.8933\n"
     ]
    },
    {
     "data": {
      "text/plain": [
       "[0.8479397296905518, 0.7599999904632568, 0.8933333158493042]"
      ]
     },
     "execution_count": 28,
     "metadata": {},
     "output_type": "execute_result"
    }
   ],
   "source": [
    "history = retina_model.fit(\n",
    "    train_gen,\n",
    "    epochs=10,\n",
    "    callbacks = callbacks_list,\n",
    "    max_queue_size = 0,\n",
    "    validation_data=val_gen\n",
    ")\n",
    "\n",
    "retina_model.evaluate(testing_images, valid_labels)"
   ]
  },
  {
   "cell_type": "code",
   "execution_count": 29,
   "id": "further-party",
   "metadata": {},
   "outputs": [
    {
     "data": {
      "image/png": "[encoded data removed]",
      "text/plain": [
       "<Figure size 432x288 with 1 Axes>"
      ]
     },
     "metadata": {
      "needs_background": "light"
     },
     "output_type": "display_data"
    },
    {
     "data": {
      "image/png": "[encoded data removed]",
      "text/plain": [
       "<Figure size 432x288 with 1 Axes>"
      ]
     },
     "metadata": {
      "needs_background": "light"
     },
     "output_type": "display_data"
    },
    {
     "name": "stdout",
     "output_type": "stream",
     "text": [
      "Top Accuracy =  90.07407426834106\n"
     ]
    }
   ],
   "source": [
    "import matplotlib.pyplot as plt\n",
    "\n",
    "acc = history.history['categorical_accuracy']\n",
    "val_acc = history.history['val_categorical_accuracy']\n",
    "loss = history.history['loss']\n",
    "val_loss = history.history['val_loss']\n",
    "top_2_acc = history.history['top_2_accuracy']\n",
    "\n",
    "epochs = range(len(acc))\n",
    "\n",
    "plt.plot(epochs, acc, 'r', label='Training accuracy')\n",
    "plt.plot(epochs, val_acc, 'g', label='Validation accuracy')\n",
    "plt.title('Training and validation accuracy')\n",
    "plt.legend()\n",
    "plt.figure()\n",
    "\n",
    "plt.plot(epochs, loss, 'r', label='Training Loss')\n",
    "plt.plot(epochs, val_loss, 'b', label='Validation Loss')\n",
    "plt.title('Training and validation loss')\n",
    "plt.legend()\n",
    "\n",
    "plt.show()\n",
    "\n",
    "print(\"Top Accuracy = \",max(top_2_acc)*100)"
   ]
  },
  {
   "cell_type": "code",
   "execution_count": 30,
   "id": "verbal-playlist",
   "metadata": {},
   "outputs": [
    {
     "name": "stdout",
     "output_type": "stream",
     "text": [
      "INFO:tensorflow:Assets written to: /mnt/sdb/DATASETS/diabetic_retinopathy/rgb_model/assets\n"
     ]
    }
   ],
   "source": [
    "retina_model.load_weights(weight_path)\n",
    "retina_model.save('/mnt/sdb/DATASETS/diabetic_retinopathy/rgb_model')"
   ]
  },
  {
   "cell_type": "code",
   "execution_count": null,
   "id": "banned-reference",
   "metadata": {},
   "outputs": [],
   "source": []
  },
  {
   "cell_type": "code",
   "execution_count": null,
   "id": "suburban-maintenance",
   "metadata": {},
   "outputs": [],
   "source": []
  }
 ],
 "metadata": {
  "kernelspec": {
   "display_name": "Python 3",
   "language": "python",
   "name": "python3"
  },
  "language_info": {
   "codemirror_mode": {
    "name": "ipython",
    "version": 3
   },
   "file_extension": ".py",
   "mimetype": "text/x-python",
   "name": "python",
   "nbconvert_exporter": "python",
   "pygments_lexer": "ipython3",
   "version": "3.6.12"
  }
 },
 "nbformat": 4,
 "nbformat_minor": 5
}
